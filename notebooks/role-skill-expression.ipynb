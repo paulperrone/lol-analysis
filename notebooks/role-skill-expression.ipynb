{
 "cells": [
  {
   "cell_type": "markdown",
   "metadata": {},
   "source": [
    "# Exploring Role Skill Expression in League\n",
    "\n",
    "After reading the [Oracle's Elixir blog post](https://oracleselixir.com/2020/02/luck-and-league-measuring-ideal-season-length-in-lol/) I wanted to apply the same approach to roles in League of Legends. I recalculate the results of the blog post, update the half skill half luck breakpoint with the addition of 2020 data, and then apply the approach to roles in a game."
   ]
  },
  {
   "cell_type": "code",
   "execution_count": 101,
   "metadata": {},
   "outputs": [],
   "source": [
    "import math\n",
    "import pandas as pd\n",
    "pd.options.display.max_rows = 100\n",
    "pd.options.display.max_columns = 500\n",
    "import seaborn as sns"
   ]
  },
  {
   "cell_type": "code",
   "execution_count": 102,
   "metadata": {},
   "outputs": [],
   "source": [
    "games_2018 = pd.read_csv(\"../data/2018_LoL_esports_match_data_from_OraclesElixir_20201019.csv\")\n",
    "games_2019 = pd.read_csv(\"../data/2019_LoL_esports_match_data_from_OraclesElixir_20201019.csv\")\n",
    "games_2020 = pd.read_csv(\"../data/2020_LoL_esports_match_data_from_OraclesElixir_20201019.csv\")"
   ]
  },
  {
   "cell_type": "code",
   "execution_count": 103,
   "metadata": {},
   "outputs": [],
   "source": [
    "games_2018 = games_2018.replace('NA LCS', 'LCS')"
   ]
  },
  {
   "cell_type": "markdown",
   "metadata": {},
   "source": [
    "### Validate Function\n",
    "\n",
    "Recalculating the results from the work of the original [Oracle's Elixir blog post](https://oracleselixir.com/2020/02/luck-and-league-measuring-ideal-season-length-in-lol/) to ensure that I have my math down right."
   ]
  },
  {
   "cell_type": "code",
   "execution_count": 104,
   "metadata": {},
   "outputs": [],
   "source": [
    "df = games_2018.append(games_2019, ignore_index=True)"
   ]
  },
  {
   "cell_type": "code",
   "execution_count": 105,
   "metadata": {},
   "outputs": [
    {
     "data": {
      "text/plain": [
       "(148442, 105)"
      ]
     },
     "execution_count": 105,
     "metadata": {},
     "output_type": "execute_result"
    }
   ],
   "source": [
    "df.shape"
   ]
  },
  {
   "cell_type": "code",
   "execution_count": 106,
   "metadata": {},
   "outputs": [
    {
     "data": {
      "text/plain": [
       "complete    8292\n",
       "partial       24\n",
       "Name: datacompleteness, dtype: int64"
      ]
     },
     "execution_count": 106,
     "metadata": {},
     "output_type": "execute_result"
    }
   ],
   "source": [
    "df = df[df['league'].isin(['LCS', 'LEC'])]\n",
    "df['datacompleteness'].value_counts()"
   ]
  },
  {
   "cell_type": "code",
   "execution_count": 107,
   "metadata": {},
   "outputs": [
    {
     "data": {
      "text/plain": [
       "(6624, 105)"
      ]
     },
     "execution_count": 107,
     "metadata": {},
     "output_type": "execute_result"
    }
   ],
   "source": [
    "df = df[df['datacompleteness'] == 'complete']\n",
    "df = df[df['playoffs'] == 0]\n",
    "df.shape"
   ]
  },
  {
   "cell_type": "code",
   "execution_count": 108,
   "metadata": {},
   "outputs": [],
   "source": [
    "#df.head(10)"
   ]
  },
  {
   "cell_type": "code",
   "execution_count": 109,
   "metadata": {},
   "outputs": [],
   "source": [
    "validation_df = df.groupby(['team', 'year', 'split']).mean().reset_index()"
   ]
  },
  {
   "cell_type": "code",
   "execution_count": 110,
   "metadata": {},
   "outputs": [
    {
     "data": {
      "text/plain": [
       "(60, 91)"
      ]
     },
     "execution_count": 110,
     "metadata": {},
     "output_type": "execute_result"
    }
   ],
   "source": [
    "validation_df.shape"
   ]
  },
  {
   "cell_type": "code",
   "execution_count": 111,
   "metadata": {},
   "outputs": [],
   "source": [
    "#validation_df.head()"
   ]
  },
  {
   "cell_type": "code",
   "execution_count": 112,
   "metadata": {},
   "outputs": [
    {
     "name": "stdout",
     "output_type": "stream",
     "text": [
      "0.17078795942724667\n"
     ]
    }
   ],
   "source": [
    "win_percentage_standard_deviation = validation_df['result'].std()\n",
    "print(win_percentage_standard_deviation)"
   ]
  },
  {
   "cell_type": "code",
   "execution_count": 113,
   "metadata": {},
   "outputs": [
    {
     "name": "stdout",
     "output_type": "stream",
     "text": [
      "0.11785113019775792\n"
     ]
    }
   ],
   "source": [
    "games_in_split = 18\n",
    "random_standard_deviation = math.sqrt(.25 / games_in_split)\n",
    "print(random_standard_deviation)"
   ]
  },
  {
   "cell_type": "code",
   "execution_count": 114,
   "metadata": {},
   "outputs": [
    {
     "name": "stdout",
     "output_type": "stream",
     "text": [
      "var_observed:  0.029168527085322856\n",
      "var_random:  0.013888888888888888\n",
      "var_true:  0.015279638196433968\n"
     ]
    }
   ],
   "source": [
    "#var_observed = var_true + var_random\n",
    "var_observed = win_percentage_standard_deviation ** 2\n",
    "var_random = random_standard_deviation ** 2\n",
    "var_true = var_observed - var_random\n",
    "print(\"var_observed: \", var_observed)\n",
    "print(\"var_random: \", var_random)\n",
    "print(\"var_true: \", var_true)"
   ]
  },
  {
   "cell_type": "code",
   "execution_count": 115,
   "metadata": {},
   "outputs": [
    {
     "name": "stdout",
     "output_type": "stream",
     "text": [
      "16.361643959498082\n"
     ]
    }
   ],
   "source": [
    "games_breakpoint = .25 / (var_true)\n",
    "print(games_breakpoint)"
   ]
  },
  {
   "cell_type": "code",
   "execution_count": 116,
   "metadata": {},
   "outputs": [],
   "source": [
    "def get_games_breakpoint(win_pct_column, num_games_season):\n",
    "    win_percentage_standard_deviation = win_pct_column.std()\n",
    "    random_standard_deviation = math.sqrt(.25 / num_games_season)\n",
    "    var_observed = win_percentage_standard_deviation ** 2\n",
    "    var_random = random_standard_deviation ** 2\n",
    "    var_true = var_observed - var_random\n",
    "    games_breakpoint = .25 / (var_true)\n",
    "    return games_breakpoint"
   ]
  },
  {
   "cell_type": "code",
   "execution_count": 117,
   "metadata": {},
   "outputs": [
    {
     "name": "stdout",
     "output_type": "stream",
     "text": [
      "16.361643959498082\n"
     ]
    }
   ],
   "source": [
    "breakpoint = get_games_breakpoint(validation_df['result'], 18)\n",
    "print(breakpoint)"
   ]
  },
  {
   "cell_type": "markdown",
   "metadata": {},
   "source": [
    "### Run Function with 2020 Data"
   ]
  },
  {
   "cell_type": "code",
   "execution_count": 118,
   "metadata": {},
   "outputs": [
    {
     "data": {
      "text/plain": [
       "(218294, 105)"
      ]
     },
     "execution_count": 118,
     "metadata": {},
     "output_type": "execute_result"
    }
   ],
   "source": [
    "games = games_2018.append(games_2019, ignore_index=True)\n",
    "games = games.append(games_2020, ignore_index=True)\n",
    "games.shape"
   ]
  },
  {
   "cell_type": "code",
   "execution_count": 119,
   "metadata": {},
   "outputs": [
    {
     "data": {
      "text/plain": [
       "complete    14280\n",
       "partial        96\n",
       "Name: datacompleteness, dtype: int64"
      ]
     },
     "execution_count": 119,
     "metadata": {},
     "output_type": "execute_result"
    }
   ],
   "source": [
    "df = games[games['league'].isin(['LCS', 'LEC'])]\n",
    "df['datacompleteness'].value_counts()"
   ]
  },
  {
   "cell_type": "code",
   "execution_count": 120,
   "metadata": {},
   "outputs": [
    {
     "data": {
      "text/plain": [
       "(10992, 105)"
      ]
     },
     "execution_count": 120,
     "metadata": {},
     "output_type": "execute_result"
    }
   ],
   "source": [
    "df = df[df['datacompleteness'] == 'complete']\n",
    "df = df[df['playoffs'] == 0]\n",
    "df.shape"
   ]
  },
  {
   "cell_type": "code",
   "execution_count": 121,
   "metadata": {},
   "outputs": [],
   "source": [
    "#df.head()"
   ]
  },
  {
   "cell_type": "code",
   "execution_count": 122,
   "metadata": {},
   "outputs": [],
   "source": [
    "season_length_breakpoint_df = df.groupby(['team', 'year', 'split']).mean().reset_index()\n",
    "#season_length_breakpoint_df.head(10)"
   ]
  },
  {
   "cell_type": "code",
   "execution_count": 123,
   "metadata": {},
   "outputs": [
    {
     "name": "stdout",
     "output_type": "stream",
     "text": [
      "14.365126087736414\n"
     ]
    }
   ],
   "source": [
    "breakpoint = get_games_breakpoint(season_length_breakpoint_df['result'], 18)\n",
    "print(breakpoint)"
   ]
  },
  {
   "cell_type": "markdown",
   "metadata": {},
   "source": [
    "### Analyze Roles"
   ]
  },
  {
   "cell_type": "code",
   "execution_count": 138,
   "metadata": {},
   "outputs": [],
   "source": [
    "position_labels = ['top', 'jng', 'mid', 'bot', 'sup']\n",
    "positional_metrics = ['golddiffat10', 'xpdiffat10', 'csdiffat10', 'golddiffat15', 'xpdiffat15', 'csdiffat15']"
   ]
  },
  {
   "cell_type": "code",
   "execution_count": 139,
   "metadata": {},
   "outputs": [],
   "source": [
    "def determine_positional_win(metric):\n",
    "    if metric > 0:\n",
    "        return 1\n",
    "    else:\n",
    "        return 0"
   ]
  },
  {
   "cell_type": "code",
   "execution_count": 140,
   "metadata": {},
   "outputs": [
    {
     "name": "stdout",
     "output_type": "stream",
     "text": [
      "top - golddiffat10 : 33.289628804063305\n",
      "top - xpdiffat10 : 45.81466255531417\n",
      "top - csdiffat10 : 19.997317312119584\n",
      "top - golddiffat15 : 29.349738310161804\n",
      "top - xpdiffat15 : 40.57169955965806\n",
      "top - csdiffat15 : 19.031398719608713\n",
      "jng - golddiffat10 : 83.6290475698082\n",
      "jng - xpdiffat10 : 36.93821751615051\n",
      "jng - csdiffat10 : 66.49571153186001\n",
      "jng - golddiffat15 : 29.800131564588874\n",
      "jng - xpdiffat15 : 24.515315927888413\n",
      "jng - csdiffat15 : 22.81974157625906\n",
      "mid - golddiffat10 : 32.853965176187025\n",
      "mid - xpdiffat10 : 33.93739980626277\n",
      "mid - csdiffat10 : 17.288602354684762\n",
      "mid - golddiffat15 : 23.265795190143745\n",
      "mid - xpdiffat15 : 23.166419748516475\n",
      "mid - csdiffat15 : 15.433406290882287\n",
      "bot - golddiffat10 : 32.806895767743\n",
      "bot - xpdiffat10 : 98.97986251112019\n",
      "bot - csdiffat10 : 28.902612649980117\n",
      "bot - golddiffat15 : 26.823228458611297\n",
      "bot - xpdiffat15 : 36.62868154596016\n",
      "bot - csdiffat15 : 21.196622106067053\n",
      "sup - golddiffat10 : 77.78750608160144\n",
      "sup - xpdiffat10 : 69.42575868618843\n",
      "sup - csdiffat10 : 164.02496226173375\n",
      "sup - golddiffat15 : 74.5289484838088\n",
      "sup - xpdiffat15 : 59.47166620174315\n",
      "sup - csdiffat15 : 178.2878152037699\n"
     ]
    }
   ],
   "source": [
    "#position = 'top'\n",
    "#selected_metric = 'xpdiffat10'\n",
    "\n",
    "for position in position_labels:\n",
    "    for selected_metric in positional_metrics:\n",
    "        roles_df = df[df['position'] == position]\n",
    "        roles_df['positional_win'] = df[selected_metric].apply(lambda x: determine_positional_win(x))\n",
    "        role_breakpoint_df = roles_df.groupby(['team', 'year', 'split']).mean().reset_index()\n",
    "        breakpoint = get_games_breakpoint(role_breakpoint_df['positional_win'], 18)\n",
    "        print(position, '-', selected_metric, ':',breakpoint)"
   ]
  },
  {
   "cell_type": "code",
   "execution_count": null,
   "metadata": {},
   "outputs": [],
   "source": []
  }
 ],
 "metadata": {
  "kernelspec": {
   "display_name": "Python 3",
   "language": "python",
   "name": "python3"
  },
  "language_info": {
   "codemirror_mode": {
    "name": "ipython",
    "version": 3
   },
   "file_extension": ".py",
   "mimetype": "text/x-python",
   "name": "python",
   "nbconvert_exporter": "python",
   "pygments_lexer": "ipython3",
   "version": "3.7.3"
  }
 },
 "nbformat": 4,
 "nbformat_minor": 2
}
